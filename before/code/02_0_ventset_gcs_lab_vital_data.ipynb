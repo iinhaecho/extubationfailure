{
 "cells": [
  {
   "cell_type": "code",
   "execution_count": 1,
   "id": "d150ce7f",
   "metadata": {
    "ExecuteTime": {
     "end_time": "2024-07-03T03:46:39.115129Z",
     "start_time": "2024-07-03T03:46:34.746766Z"
    },
    "id": "d150ce7f"
   },
   "outputs": [],
   "source": [
    "import pandas as pd\n",
    "from pandas import Series, DataFrame\n",
    "import numpy as np\n",
    "import pprint\n",
    "from datetime import datetime, timedelta\n",
    "import time\n",
    "from dfply import *\n",
    "import matplotlib.pyplot as plt\n",
    "import seaborn as sns\n",
    "import impyute as impy\n",
    "from impyute.imputation.cs import mice\n",
    "#from sqlalchemy import create_engine"
   ]
  },
  {
   "cell_type": "code",
   "execution_count": 2,
   "id": "fbfac805",
   "metadata": {
    "ExecuteTime": {
     "end_time": "2024-07-03T03:46:39.125970Z",
     "start_time": "2024-07-03T03:46:39.119611Z"
    },
    "id": "fbfac805"
   },
   "outputs": [],
   "source": [
    "from IPython.core.interactiveshell import InteractiveShell\n",
    "InteractiveShell.ast_node_interactivity=\"all\""
   ]
  },
  {
   "cell_type": "code",
   "execution_count": 3,
   "id": "c10b31fc",
   "metadata": {
    "ExecuteTime": {
     "end_time": "2024-07-03T03:48:26.440522Z",
     "start_time": "2024-07-03T03:46:39.129994Z"
    },
    "colab": {
     "base_uri": "https://localhost:8080/",
     "height": 404
    },
    "id": "c10b31fc",
    "outputId": "2fcc15d7-fcbd-461a-c006-631265554a37"
   },
   "outputs": [
    {
     "name": "stderr",
     "output_type": "stream",
     "text": [
      "C:\\Users\\inhae\\anaconda3\\Lib\\site-packages\\paramiko\\transport.py:219: CryptographyDeprecationWarning: Blowfish has been deprecated and will be removed in a future release\n",
      "  \"class\": algorithms.Blowfish,\n",
      "INFO:root:Retrieved pg_tables: (164, 8)\n"
     ]
    },
    {
     "name": "stdout",
     "output_type": "stream",
     "text": [
      "--------- Database Configuration ---------\n",
      "Database Name: mimiciv\n",
      "User: mai_onlyselect\n",
      "Password: *************\n",
      "Host: 1.212.63.162\n",
      "Port: 35430\n",
      "\n",
      "--------- SQL Queries for Required Tables ---------\n",
      "pg_tables: SELECT * FROM PG_TABLES;\n",
      "patients: SELECT * FROM mimiciv_hosp.patients;\n",
      "admissions: SELECT * FROM mimiciv_hosp.admissions;\n",
      "transfers: SELECT * FROM mimiciv_hosp.transfers;\n",
      "icustays: SELECT * FROM mimiciv_icu.icustays;\n",
      "d_items: SELECT * FROM mimiciv_icu.d_items;\n",
      "intubation: SELECT * FROM mimiciv_icu.procedureevents WHERE itemid IN (224385);\n",
      "extubation: SELECT * FROM mimiciv_icu.procedureevents WHERE itemid IN (225468, 225477, 227194);\n",
      "ventilation: SELECT * FROM mimiciv_derived.ventilation;\n",
      "\n",
      "Connected to the database successfully!\n"
     ]
    },
    {
     "name": "stderr",
     "output_type": "stream",
     "text": [
      "INFO:root:Retrieved patients: (299712, 6)\n",
      "INFO:root:Retrieved admissions: (431231, 16)\n",
      "INFO:root:Retrieved transfers: (1890972, 7)\n",
      "INFO:root:Retrieved icustays: (73181, 8)\n",
      "INFO:root:Retrieved d_items: (4014, 9)\n",
      "INFO:root:Retrieved intubation: (8488, 22)\n",
      "INFO:root:Retrieved extubation: (23122, 22)\n",
      "INFO:root:Retrieved ventilation: (109200, 4)\n"
     ]
    },
    {
     "name": "stdout",
     "output_type": "stream",
     "text": [
      "PostgreSQL version: ('PostgreSQL 15.7 (Ubuntu 15.7-1.pgdg22.04+1) on x86_64-pc-linux-gnu, compiled by gcc (Ubuntu 11.4.0-1ubuntu1~22.04) 11.4.0, 64-bit',)\n"
     ]
    }
   ],
   "source": [
    "import src.data_extraction.access_database as db\n",
    "import src.data_extraction.filter_adult_patients as fap\n",
    "import src.data_extraction.filter_ventilation_events as fve\n",
    "from src.utils import utils\n",
    "import psycopg2\n",
    "\n",
    "# 데이터 저장위치\n",
    "output_dir = './data'\n",
    "\n",
    "# 데이터베이스 연결 설정\n",
    "db_config = {\n",
    "    'database': 'mimiciv',\n",
    "    'user': 'mai_onlyselect',\n",
    "    'password': 'student1q2w!@',\n",
    "    'host': '1.212.63.162',\n",
    "    'port': '35430'\n",
    "}\n",
    "\n",
    "# 호흡기 ITEM ID 설정 (웬만하면 건들지 마세요)\n",
    "vent_ids_config = {\n",
    "    'INTUBATION_ITEM_IDS': \"224385\",\n",
    "    'EXTUBATION_ITEM_IDS': \"225468, 225477, 227194\"\n",
    "}\n",
    "\n",
    "# 테이블 쿼리 설정\n",
    "tables_query = {\n",
    "    'pg_tables': 'SELECT * FROM PG_TABLES;',\n",
    "    'patients': 'SELECT * FROM mimiciv_hosp.patients;',\n",
    "    'admissions': 'SELECT * FROM mimiciv_hosp.admissions;',\n",
    "    'transfers': 'SELECT * FROM mimiciv_hosp.transfers;',\n",
    "    'icustays': 'SELECT * FROM mimiciv_icu.icustays;',\n",
    "    'd_items': 'SELECT * FROM mimiciv_icu.d_items;',\n",
    "    'intubation': f\"SELECT * FROM mimiciv_icu.procedureevents WHERE itemid IN ({vent_ids_config['INTUBATION_ITEM_IDS']});\",\n",
    "    'extubation': f\"SELECT * FROM mimiciv_icu.procedureevents WHERE itemid IN ({vent_ids_config['EXTUBATION_ITEM_IDS']});\",\n",
    "    'ventilation': 'SELECT * FROM mimiciv_derived.ventilation;'\n",
    "}\n",
    "\n",
    "db.print_config_info(db_config, tables_query)\n",
    "\n",
    "# 데이터베이스 연결 설정\n",
    "db_config = {\n",
    "    'database': 'mimiciv',\n",
    "    'user': 'mai_onlyselect',\n",
    "    'password': 'student1q2w!@',\n",
    "    'host': '1.212.63.162',\n",
    "    'port': '35430'\n",
    "}\n",
    "\n",
    "try:\n",
    "    # 데이터베이스 연결\n",
    "    conn = psycopg2.connect(**db_config)\n",
    "    print(\"Connected to the database successfully!\")\n",
    "\n",
    "    # 커서 생성\n",
    "    curs = conn.cursor()\n",
    "\n",
    "    if conn is not None:\n",
    "        # 데이터베이스 작업 수행\n",
    "        dataframes = db.retrieve_data(conn, tables_query)\n",
    "    else:\n",
    "        logging.error(\"Failed to connect to the database.\")\n",
    "\n",
    "    # SQL 쿼리 실행\n",
    "    curs.execute(\"SELECT version();\")\n",
    "\n",
    "    # 결과 가져오기\n",
    "    result = curs.fetchone()\n",
    "    print(\"PostgreSQL version:\", result)\n",
    "\n",
    "except (psycopg2.Error, Exception) as error:\n",
    "    print(\"Error while connecting to the database:\", error)\n",
    "\n"
   ]
  },
  {
   "cell_type": "markdown",
   "id": "65f717eb",
   "metadata": {
    "id": "65f717eb"
   },
   "source": [
    "# data 불러오기"
   ]
  },
  {
   "cell_type": "markdown",
   "id": "f095e24d",
   "metadata": {
    "id": "f095e24d"
   },
   "source": [
    "## lab_abga"
   ]
  },
  {
   "cell_type": "code",
   "execution_count": 4,
   "id": "9d1a872f",
   "metadata": {
    "ExecuteTime": {
     "end_time": "2024-07-03T03:54:32.599830Z",
     "start_time": "2024-07-03T03:48:26.444055Z"
    },
    "id": "9d1a872f"
   },
   "outputs": [],
   "source": [
    "curs.execute(\"select * from mimiciv_hosp.labevents where itemid in (50818, 50820, 50821, 50802, 50817, 50882);\")\n",
    "columns_name = [desc[0] for desc in curs.description]\n",
    "lab_abga = pd.DataFrame(curs.fetchall(), columns=columns_name)"
   ]
  },
  {
   "cell_type": "markdown",
   "id": "5cc62f48",
   "metadata": {
    "id": "5cc62f48"
   },
   "source": [
    "## ventilator_setting"
   ]
  },
  {
   "cell_type": "code",
   "execution_count": 5,
   "id": "7677177e",
   "metadata": {
    "ExecuteTime": {
     "end_time": "2024-07-03T03:55:38.069978Z",
     "start_time": "2024-07-03T03:54:40.602737Z"
    },
    "id": "7677177e"
   },
   "outputs": [],
   "source": [
    "curs.execute(\"select * from mimiciv_derived.ventilator_setting;\")\n",
    "columns_name = [desc[0] for desc in curs.description]\n",
    "ventilator_setting = pd.DataFrame(curs.fetchall(), columns=columns_name)"
   ]
  },
  {
   "cell_type": "markdown",
   "id": "fd5003fa",
   "metadata": {
    "ExecuteTime": {
     "end_time": "2024-07-01T03:48:58.340959Z",
     "start_time": "2024-07-01T03:48:58.330180Z"
    },
    "id": "fd5003fa"
   },
   "source": [
    "## ventilation"
   ]
  },
  {
   "cell_type": "code",
   "execution_count": 6,
   "id": "0bf5cf58",
   "metadata": {
    "ExecuteTime": {
     "end_time": "2024-07-03T03:55:42.625651Z",
     "start_time": "2024-07-03T03:55:38.075717Z"
    },
    "id": "0bf5cf58"
   },
   "outputs": [],
   "source": [
    "curs.execute(\"select * from mimiciv_derived.ventilation;\")\n",
    "columns_name = [desc[0] for desc in curs.description]\n",
    "ventilation = pd.DataFrame(curs.fetchall(), columns=columns_name)"
   ]
  },
  {
   "cell_type": "markdown",
   "id": "feb23ce2",
   "metadata": {
    "id": "feb23ce2"
   },
   "source": [
    "## gcs"
   ]
  },
  {
   "cell_type": "code",
   "execution_count": 10,
   "id": "4bd05e02",
   "metadata": {
    "ExecuteTime": {
     "end_time": "2024-07-03T03:56:42.688920Z",
     "start_time": "2024-07-03T03:55:42.644230Z"
    },
    "id": "4bd05e02"
   },
   "outputs": [],
   "source": [
    "curs.execute(\"select * from mimiciv_derived.gcs;\")\n",
    "columns_name = [desc[0] for desc in curs.description]\n",
    "gcs = pd.DataFrame(curs.fetchall(), columns=columns_name)"
   ]
  },
  {
   "cell_type": "markdown",
   "id": "b09fee5e",
   "metadata": {
    "id": "b09fee5e"
   },
   "source": [
    "## subjectlist2"
   ]
  },
  {
   "cell_type": "code",
   "execution_count": 8,
   "id": "91196a89",
   "metadata": {
    "ExecuteTime": {
     "end_time": "2024-07-03T03:56:43.018227Z",
     "start_time": "2024-07-03T03:56:42.695242Z"
    },
    "id": "91196a89"
   },
   "outputs": [
    {
     "ename": "ValueError",
     "evalue": "Missing column provided to 'parse_dates': 'reintubation_eventtime'",
     "output_type": "error",
     "traceback": [
      "\u001b[1;31m---------------------------------------------------------------------------\u001b[0m",
      "\u001b[1;31mValueError\u001b[0m                                Traceback (most recent call last)",
      "Cell \u001b[1;32mIn[8], line 1\u001b[0m\n\u001b[1;32m----> 1\u001b[0m subjectlist2 \u001b[38;5;241m=\u001b[39m pd\u001b[38;5;241m.\u001b[39mread_csv(\u001b[38;5;124m'\u001b[39m\u001b[38;5;124m./data/paired_df.csv\u001b[39m\u001b[38;5;124m'\u001b[39m\\\n\u001b[0;32m      2\u001b[0m                            , parse_dates\u001b[38;5;241m=\u001b[39m[\u001b[38;5;124m'\u001b[39m\u001b[38;5;124madmittime\u001b[39m\u001b[38;5;124m'\u001b[39m,\u001b[38;5;124m'\u001b[39m\u001b[38;5;124mintubationtime\u001b[39m\u001b[38;5;124m'\u001b[39m,\u001b[38;5;124m'\u001b[39m\u001b[38;5;124mdischtime\u001b[39m\u001b[38;5;124m'\u001b[39m, \u001b[38;5;124m'\u001b[39m\u001b[38;5;124mdeathtime\u001b[39m\u001b[38;5;124m'\u001b[39m,\u001b[38;5;124m'\u001b[39m\u001b[38;5;124mextubationtime\u001b[39m\u001b[38;5;124m'\u001b[39m,\u001b[38;5;124m'\u001b[39m\u001b[38;5;124mreintubation_eventtime\u001b[39m\u001b[38;5;124m'\u001b[39m])\n\u001b[0;32m      4\u001b[0m \u001b[38;5;66;03m# sub2list\u001b[39;00m\n\u001b[0;32m      5\u001b[0m sub2list \u001b[38;5;241m=\u001b[39m subjectlist2 \u001b[38;5;241m>>\u001b[39m select(\u001b[38;5;124m'\u001b[39m\u001b[38;5;124msubject_id\u001b[39m\u001b[38;5;124m'\u001b[39m,\u001b[38;5;124m'\u001b[39m\u001b[38;5;124mhadm_id\u001b[39m\u001b[38;5;124m'\u001b[39m,\u001b[38;5;124m'\u001b[39m\u001b[38;5;124mstay_id\u001b[39m\u001b[38;5;124m'\u001b[39m)\n",
      "File \u001b[1;32m~\\anaconda3\\Lib\\site-packages\\pandas\\io\\parsers\\readers.py:948\u001b[0m, in \u001b[0;36mread_csv\u001b[1;34m(filepath_or_buffer, sep, delimiter, header, names, index_col, usecols, dtype, engine, converters, true_values, false_values, skipinitialspace, skiprows, skipfooter, nrows, na_values, keep_default_na, na_filter, verbose, skip_blank_lines, parse_dates, infer_datetime_format, keep_date_col, date_parser, date_format, dayfirst, cache_dates, iterator, chunksize, compression, thousands, decimal, lineterminator, quotechar, quoting, doublequote, escapechar, comment, encoding, encoding_errors, dialect, on_bad_lines, delim_whitespace, low_memory, memory_map, float_precision, storage_options, dtype_backend)\u001b[0m\n\u001b[0;32m    935\u001b[0m kwds_defaults \u001b[38;5;241m=\u001b[39m _refine_defaults_read(\n\u001b[0;32m    936\u001b[0m     dialect,\n\u001b[0;32m    937\u001b[0m     delimiter,\n\u001b[1;32m   (...)\u001b[0m\n\u001b[0;32m    944\u001b[0m     dtype_backend\u001b[38;5;241m=\u001b[39mdtype_backend,\n\u001b[0;32m    945\u001b[0m )\n\u001b[0;32m    946\u001b[0m kwds\u001b[38;5;241m.\u001b[39mupdate(kwds_defaults)\n\u001b[1;32m--> 948\u001b[0m \u001b[38;5;28;01mreturn\u001b[39;00m _read(filepath_or_buffer, kwds)\n",
      "File \u001b[1;32m~\\anaconda3\\Lib\\site-packages\\pandas\\io\\parsers\\readers.py:611\u001b[0m, in \u001b[0;36m_read\u001b[1;34m(filepath_or_buffer, kwds)\u001b[0m\n\u001b[0;32m    608\u001b[0m _validate_names(kwds\u001b[38;5;241m.\u001b[39mget(\u001b[38;5;124m\"\u001b[39m\u001b[38;5;124mnames\u001b[39m\u001b[38;5;124m\"\u001b[39m, \u001b[38;5;28;01mNone\u001b[39;00m))\n\u001b[0;32m    610\u001b[0m \u001b[38;5;66;03m# Create the parser.\u001b[39;00m\n\u001b[1;32m--> 611\u001b[0m parser \u001b[38;5;241m=\u001b[39m TextFileReader(filepath_or_buffer, \u001b[38;5;241m*\u001b[39m\u001b[38;5;241m*\u001b[39mkwds)\n\u001b[0;32m    613\u001b[0m \u001b[38;5;28;01mif\u001b[39;00m chunksize \u001b[38;5;129;01mor\u001b[39;00m iterator:\n\u001b[0;32m    614\u001b[0m     \u001b[38;5;28;01mreturn\u001b[39;00m parser\n",
      "File \u001b[1;32m~\\anaconda3\\Lib\\site-packages\\pandas\\io\\parsers\\readers.py:1448\u001b[0m, in \u001b[0;36mTextFileReader.__init__\u001b[1;34m(self, f, engine, **kwds)\u001b[0m\n\u001b[0;32m   1445\u001b[0m     \u001b[38;5;28mself\u001b[39m\u001b[38;5;241m.\u001b[39moptions[\u001b[38;5;124m\"\u001b[39m\u001b[38;5;124mhas_index_names\u001b[39m\u001b[38;5;124m\"\u001b[39m] \u001b[38;5;241m=\u001b[39m kwds[\u001b[38;5;124m\"\u001b[39m\u001b[38;5;124mhas_index_names\u001b[39m\u001b[38;5;124m\"\u001b[39m]\n\u001b[0;32m   1447\u001b[0m \u001b[38;5;28mself\u001b[39m\u001b[38;5;241m.\u001b[39mhandles: IOHandles \u001b[38;5;241m|\u001b[39m \u001b[38;5;28;01mNone\u001b[39;00m \u001b[38;5;241m=\u001b[39m \u001b[38;5;28;01mNone\u001b[39;00m\n\u001b[1;32m-> 1448\u001b[0m \u001b[38;5;28mself\u001b[39m\u001b[38;5;241m.\u001b[39m_engine \u001b[38;5;241m=\u001b[39m \u001b[38;5;28mself\u001b[39m\u001b[38;5;241m.\u001b[39m_make_engine(f, \u001b[38;5;28mself\u001b[39m\u001b[38;5;241m.\u001b[39mengine)\n",
      "File \u001b[1;32m~\\anaconda3\\Lib\\site-packages\\pandas\\io\\parsers\\readers.py:1723\u001b[0m, in \u001b[0;36mTextFileReader._make_engine\u001b[1;34m(self, f, engine)\u001b[0m\n\u001b[0;32m   1720\u001b[0m     \u001b[38;5;28;01mraise\u001b[39;00m \u001b[38;5;167;01mValueError\u001b[39;00m(msg)\n\u001b[0;32m   1722\u001b[0m \u001b[38;5;28;01mtry\u001b[39;00m:\n\u001b[1;32m-> 1723\u001b[0m     \u001b[38;5;28;01mreturn\u001b[39;00m mapping[engine](f, \u001b[38;5;241m*\u001b[39m\u001b[38;5;241m*\u001b[39m\u001b[38;5;28mself\u001b[39m\u001b[38;5;241m.\u001b[39moptions)\n\u001b[0;32m   1724\u001b[0m \u001b[38;5;28;01mexcept\u001b[39;00m \u001b[38;5;167;01mException\u001b[39;00m:\n\u001b[0;32m   1725\u001b[0m     \u001b[38;5;28;01mif\u001b[39;00m \u001b[38;5;28mself\u001b[39m\u001b[38;5;241m.\u001b[39mhandles \u001b[38;5;129;01mis\u001b[39;00m \u001b[38;5;129;01mnot\u001b[39;00m \u001b[38;5;28;01mNone\u001b[39;00m:\n",
      "File \u001b[1;32m~\\anaconda3\\Lib\\site-packages\\pandas\\io\\parsers\\c_parser_wrapper.py:161\u001b[0m, in \u001b[0;36mCParserWrapper.__init__\u001b[1;34m(self, src, **kwds)\u001b[0m\n\u001b[0;32m    155\u001b[0m         \u001b[38;5;28mself\u001b[39m\u001b[38;5;241m.\u001b[39m_validate_usecols_names(\n\u001b[0;32m    156\u001b[0m             usecols,\n\u001b[0;32m    157\u001b[0m             \u001b[38;5;28mself\u001b[39m\u001b[38;5;241m.\u001b[39mnames,  \u001b[38;5;66;03m# type: ignore[has-type]\u001b[39;00m\n\u001b[0;32m    158\u001b[0m         )\n\u001b[0;32m    160\u001b[0m \u001b[38;5;66;03m# error: Cannot determine type of 'names'\u001b[39;00m\n\u001b[1;32m--> 161\u001b[0m \u001b[38;5;28mself\u001b[39m\u001b[38;5;241m.\u001b[39m_validate_parse_dates_presence(\u001b[38;5;28mself\u001b[39m\u001b[38;5;241m.\u001b[39mnames)  \u001b[38;5;66;03m# type: ignore[has-type]\u001b[39;00m\n\u001b[0;32m    162\u001b[0m \u001b[38;5;28mself\u001b[39m\u001b[38;5;241m.\u001b[39m_set_noconvert_columns()\n\u001b[0;32m    164\u001b[0m \u001b[38;5;66;03m# error: Cannot determine type of 'names'\u001b[39;00m\n",
      "File \u001b[1;32m~\\anaconda3\\Lib\\site-packages\\pandas\\io\\parsers\\base_parser.py:242\u001b[0m, in \u001b[0;36mParserBase._validate_parse_dates_presence\u001b[1;34m(self, columns)\u001b[0m\n\u001b[0;32m    232\u001b[0m missing_cols \u001b[38;5;241m=\u001b[39m \u001b[38;5;124m\"\u001b[39m\u001b[38;5;124m, \u001b[39m\u001b[38;5;124m\"\u001b[39m\u001b[38;5;241m.\u001b[39mjoin(\n\u001b[0;32m    233\u001b[0m     \u001b[38;5;28msorted\u001b[39m(\n\u001b[0;32m    234\u001b[0m         {\n\u001b[1;32m   (...)\u001b[0m\n\u001b[0;32m    239\u001b[0m     )\n\u001b[0;32m    240\u001b[0m )\n\u001b[0;32m    241\u001b[0m \u001b[38;5;28;01mif\u001b[39;00m missing_cols:\n\u001b[1;32m--> 242\u001b[0m     \u001b[38;5;28;01mraise\u001b[39;00m \u001b[38;5;167;01mValueError\u001b[39;00m(\n\u001b[0;32m    243\u001b[0m         \u001b[38;5;124mf\u001b[39m\u001b[38;5;124m\"\u001b[39m\u001b[38;5;124mMissing column provided to \u001b[39m\u001b[38;5;124m'\u001b[39m\u001b[38;5;124mparse_dates\u001b[39m\u001b[38;5;124m'\u001b[39m\u001b[38;5;124m: \u001b[39m\u001b[38;5;124m'\u001b[39m\u001b[38;5;132;01m{\u001b[39;00mmissing_cols\u001b[38;5;132;01m}\u001b[39;00m\u001b[38;5;124m'\u001b[39m\u001b[38;5;124m\"\u001b[39m\n\u001b[0;32m    244\u001b[0m     )\n\u001b[0;32m    245\u001b[0m \u001b[38;5;66;03m# Convert positions to actual column names\u001b[39;00m\n\u001b[0;32m    246\u001b[0m \u001b[38;5;28;01mreturn\u001b[39;00m [\n\u001b[0;32m    247\u001b[0m     col \u001b[38;5;28;01mif\u001b[39;00m (\u001b[38;5;28misinstance\u001b[39m(col, \u001b[38;5;28mstr\u001b[39m) \u001b[38;5;129;01mor\u001b[39;00m col \u001b[38;5;129;01min\u001b[39;00m columns) \u001b[38;5;28;01melse\u001b[39;00m columns[col]\n\u001b[0;32m    248\u001b[0m     \u001b[38;5;28;01mfor\u001b[39;00m col \u001b[38;5;129;01min\u001b[39;00m cols_needed\n\u001b[0;32m    249\u001b[0m ]\n",
      "\u001b[1;31mValueError\u001b[0m: Missing column provided to 'parse_dates': 'reintubation_eventtime'"
     ]
    }
   ],
   "source": [
    "subjectlist2 = pd.read_csv('./data/paired_df.csv'\\\n",
    "                           , parse_dates=['admittime','intubationtime','dischtime', 'deathtime','extubationtime','reintubation_eventtime'])\n",
    "\n",
    "# sub2list\n",
    "sub2list = subjectlist2 >> select('subject_id','hadm_id','stay_id')"
   ]
  },
  {
   "cell_type": "markdown",
   "id": "8df26b10",
   "metadata": {
    "id": "8df26b10"
   },
   "source": [
    "## vitalsign"
   ]
  },
  {
   "cell_type": "code",
   "execution_count": 12,
   "id": "99b6e2aa",
   "metadata": {
    "ExecuteTime": {
     "end_time": "2024-07-03T04:04:33.757776Z",
     "start_time": "2024-07-03T03:56:43.024404Z"
    },
    "id": "99b6e2aa"
   },
   "outputs": [],
   "source": [
    "curs.execute(\"select * from mimiciv_derived.vitalsign;\")\n",
    "columns_name = [desc[0] for desc in curs.description]\n",
    "vitalsign = pd.DataFrame(curs.fetchall(), columns=columns_name)"
   ]
  },
  {
   "cell_type": "markdown",
   "id": "460f48c9",
   "metadata": {
    "id": "460f48c9"
   },
   "source": [
    "## icystays"
   ]
  },
  {
   "cell_type": "code",
   "execution_count": 13,
   "id": "dc1a0a22",
   "metadata": {
    "ExecuteTime": {
     "end_time": "2024-07-03T03:54:40.589942Z",
     "start_time": "2024-07-03T03:54:32.629936Z"
    },
    "id": "dc1a0a22"
   },
   "outputs": [],
   "source": [
    "curs.execute(\"select * from mimiciv_icu.icustays;\")\n",
    "columns_name = [desc[0] for desc in curs.description]\n",
    "icustays = pd.DataFrame(curs.fetchall(), columns=columns_name)\n",
    "icustays['intime'] = pd.to_datetime(icustays['intime'])\n",
    "icustays['outtime'] = pd.to_datetime(icustays['outtime'])"
   ]
  },
  {
   "cell_type": "markdown",
   "id": "4a2da941",
   "metadata": {
    "id": "4a2da941"
   },
   "source": [
    "# 데이터 전처리"
   ]
  },
  {
   "cell_type": "markdown",
   "id": "b24ef28f",
   "metadata": {
    "id": "b24ef28f"
   },
   "source": [
    "## vitalsign"
   ]
  },
  {
   "cell_type": "code",
   "execution_count": 7,
   "id": "0f365975",
   "metadata": {
    "ExecuteTime": {
     "end_time": "2024-07-03T04:09:46.854805Z",
     "start_time": "2024-07-03T04:04:33.821356Z"
    },
    "id": "0f365975"
   },
   "outputs": [
    {
     "ename": "NameError",
     "evalue": "name 'sub1list' is not defined",
     "output_type": "error",
     "traceback": [
      "\u001b[1;31m---------------------------------------------------------------------------\u001b[0m",
      "\u001b[1;31mNameError\u001b[0m                                 Traceback (most recent call last)",
      "Cell \u001b[1;32mIn[7], line 1\u001b[0m\n\u001b[1;32m----> 1\u001b[0m sub1_vitals \u001b[38;5;241m=\u001b[39m sub1list \u001b[38;5;241m>>\u001b[39m left_join(vitalsign, by\u001b[38;5;241m=\u001b[39m[\u001b[38;5;124m'\u001b[39m\u001b[38;5;124msubject_id\u001b[39m\u001b[38;5;124m'\u001b[39m,\u001b[38;5;124m'\u001b[39m\u001b[38;5;124mstay_id\u001b[39m\u001b[38;5;124m'\u001b[39m])\n\u001b[0;32m      3\u001b[0m \u001b[38;5;28;01mdef\u001b[39;00m \u001b[38;5;21mcalculate_mbp\u001b[39m(row):\n\u001b[0;32m      4\u001b[0m     \u001b[38;5;28;01mif\u001b[39;00m pd\u001b[38;5;241m.\u001b[39misna(row[\u001b[38;5;124m'\u001b[39m\u001b[38;5;124mmbp\u001b[39m\u001b[38;5;124m'\u001b[39m]) \u001b[38;5;129;01mand\u001b[39;00m pd\u001b[38;5;241m.\u001b[39mnotna(row[\u001b[38;5;124m'\u001b[39m\u001b[38;5;124msbp\u001b[39m\u001b[38;5;124m'\u001b[39m]) \u001b[38;5;129;01mand\u001b[39;00m pd\u001b[38;5;241m.\u001b[39mnotna(row[\u001b[38;5;124m'\u001b[39m\u001b[38;5;124mdbp\u001b[39m\u001b[38;5;124m'\u001b[39m]):\n",
      "\u001b[1;31mNameError\u001b[0m: name 'sub1list' is not defined"
     ]
    }
   ],
   "source": [
    "sub1_vitals = sub2list >> left_join(vitalsign, by=['subject_id','stay_id'])\n",
    "\n",
    "def calculate_mbp(row):\n",
    "    if pd.isna(row['mbp']) and pd.notna(row['sbp']) and pd.notna(row['dbp']):\n",
    "        return (row['sbp'] + 2 * row['dbp']) / 3\n",
    "    return row['mbp']\n",
    "\n",
    "# sbp 값을 공식으로 채우는 함수 정의\n",
    "def calculate_sbp(row):\n",
    "    if pd.isna(row['sbp']) and pd.notna(row['mbp']) and pd.notna(row['dbp']):\n",
    "        return 3 * row['mbp'] - 2 * row['dbp']\n",
    "    return row['sbp']\n",
    "\n",
    "# dbp 값을 공식으로 채우는 함수 정의\n",
    "def calculate_dbp(row):\n",
    "    if pd.isna(row['dbp']) and pd.notna(row['mbp']) and pd.notna(row['sbp']):\n",
    "        return (3 * row['mbp'] - row['sbp']) / 2\n",
    "    return row['dbp']\n",
    "\n",
    "# apply 함수를 사용하여 mbp, sbp, dbp 값을 계산\n",
    "sub1_vitals['mbp'] = sub1_vitals.apply(calculate_mbp, axis=1)\n",
    "sub1_vitals['sbp'] = sub1_vitals.apply(calculate_sbp, axis=1)\n",
    "sub1_vitals['dbp'] = sub1_vitals.apply(calculate_dbp, axis=1)\n"
   ]
  },
  {
   "cell_type": "markdown",
   "id": "0d07ca0b",
   "metadata": {
    "id": "0d07ca0b"
   },
   "source": [
    "## ventset"
   ]
  },
  {
   "cell_type": "code",
   "execution_count": null,
   "id": "37664d8e",
   "metadata": {
    "ExecuteTime": {
     "end_time": "2024-07-03T04:09:48.210182Z",
     "start_time": "2024-07-03T04:09:46.863819Z"
    },
    "id": "37664d8e"
   },
   "outputs": [],
   "source": [
    "sub1_ventset = sub2list >> left_join(ventilator_setting, by=['subject_id','stay_id'])"
   ]
  },
  {
   "cell_type": "markdown",
   "id": "eac911e2",
   "metadata": {
    "id": "eac911e2"
   },
   "source": [
    "## gcs, severity_prepare"
   ]
  },
  {
   "cell_type": "code",
   "execution_count": null,
   "id": "56ca2b75",
   "metadata": {
    "ExecuteTime": {
     "end_time": "2024-07-03T04:10:02.875043Z",
     "start_time": "2024-07-03T04:09:48.219198Z"
    },
    "id": "56ca2b75",
    "outputId": "57e82e03-4c68-45c2-cf16-ef4e8a5d3366"
   },
   "outputs": [],
   "source": [
    "sub2list = subjectlist2 >> select('subject_id','hadm_id','stay_id')\n",
    "sub1_gcs = sub2list >> left_join(gcs, by=['subject_id','stay_id'])\n",
    "sub1_gcs_notna = sub1_gcs[sub1_gcs.gcs.notna()]\n",
    "\n",
    "# motor와 eyes만 가지고 총합 재설정하기\n",
    "sub1_gcs_notna['gcs_m_e'] = sub1_gcs_notna['gcs_motor'] + sub1_gcs_notna['gcs_eyes']"
   ]
  },
  {
   "cell_type": "markdown",
   "id": "3467d9c5",
   "metadata": {
    "id": "3467d9c5"
   },
   "source": [
    "## lab"
   ]
  },
  {
   "cell_type": "code",
   "execution_count": null,
   "id": "2e29872d",
   "metadata": {
    "ExecuteTime": {
     "end_time": "2024-07-03T04:10:16.832296Z",
     "start_time": "2024-07-03T04:10:02.882076Z"
    },
    "id": "2e29872d",
    "outputId": "cfc24cba-4eb3-428f-bfb7-98fb087a163f"
   },
   "outputs": [],
   "source": [
    "sub1_abga = sub2list >> left_join(lab_abga, by=['subject_id','hadm_id'])\n",
    "\n",
    "sub1_abga['charttime'] = pd.to_datetime(sub1_abga['charttime'])\n",
    "sub1_abga = sub1_abga.sort_values(by=['subject_id', 'hadm_id', 'charttime'])\n",
    "\n",
    "# 전체 중복 제거\n",
    "sub1_abga_unique_tmp = sub1_abga.drop_duplicates()\n",
    "\n",
    "# stay_id를 제외한 모든 열을 그룹화\n",
    "group_columns = sub1_abga_unique_tmp.columns.difference(['stay_id']).tolist()\n",
    "\n",
    "# 그룹화하여 중복된 데이터 찾기(stay_id만 다르고 모든 데이터 동일)\n",
    "sub1_abga_unique_tmp.loc[:, 'is_duplicated'] = sub1_abga_unique_tmp.duplicated(subset=group_columns, keep=False)\n",
    "\n",
    "# 중복된 데이터만 필터링\n",
    "duplicated_groups = sub1_abga_unique_tmp[sub1_abga_unique_tmp['is_duplicated']]\n",
    "\n",
    "# 데이터 병합\n",
    "merged_df = pd.merge(duplicated_groups, icustays, on=['subject_id', 'hadm_id', 'stay_id'], how='inner')\n",
    "\n",
    "# datetime 형식 변환\n",
    "merged_df['charttime'] = pd.to_datetime(merged_df['charttime'])\n",
    "merged_df['intime'] = pd.to_datetime(merged_df['intime'])\n",
    "merged_df['outtime'] = pd.to_datetime(merged_df['outtime'])\n",
    "\n",
    "# charttime이 intime과 outtime 사이에 있는 행만 필터링\n",
    "filtered_df = merged_df[(merged_df['charttime'] >= merged_df['intime']) & (merged_df['charttime'] <= merged_df['outtime'])]\n",
    "\n",
    "# icustays테이블의 컬럼들 삭제\n",
    "columns_to_drop = ['first_careunit', 'last_careunit', 'intime', 'outtime', 'los', 'is_duplicated']\n",
    "final_df = filtered_df.drop(columns=columns_to_drop)\n",
    "\n",
    "# is_duplicated 컬럼이 True인 것을 모두 삭제하고, final_df와 병합\n",
    "sub1_abga_unique = pd.concat([final_df, sub1_abga_unique_tmp[~sub1_abga_unique_tmp.index.isin(duplicated_groups.index)]])\n",
    "\n",
    "# 다시 정렬\n",
    "sub1_abga_unique = sub1_abga_unique.sort_values(by=['subject_id', 'hadm_id', 'charttime'])\n",
    "sub1_abga_unique['charttime'] = pd.to_datetime(sub1_abga_unique['charttime'])\n",
    "sub1_abga_unique['storetime'] = pd.to_datetime(sub1_abga_unique['storetime'])"
   ]
  },
  {
   "cell_type": "markdown",
   "id": "46f622ee",
   "metadata": {
    "id": "46f622ee"
   },
   "source": [
    "# 데이터 저장"
   ]
  },
  {
   "cell_type": "code",
   "execution_count": null,
   "id": "f5c96c2f",
   "metadata": {
    "ExecuteTime": {
     "end_time": "2024-07-03T04:12:16.084302Z",
     "start_time": "2024-07-03T04:10:16.846238Z"
    },
    "id": "f5c96c2f"
   },
   "outputs": [],
   "source": [
    "# 경로 맞게 수정\n",
    "sub1_vitals.to_csv('./data/sub1_vitals.csv', index=False, encoding='utf-8-sig')\n",
    "sub1_gcs_notna.to_csv('./data/sub1_gcs_notna.csv', index=False, encoding='utf-8-sig')\n",
    "sub1_ventset.to_csv('./data/sub1_ventset.csv', index=False, encoding='utf-8-sig')\n",
    "sub1_abga_unique.to_csv('./data/sub1_abga_unique.csv', index=False, encoding='utf-8-sig')\n",
    "icustays.to_csv('./data/icustays.csv', index=False, encoding='utf-8-sig')"
   ]
  },
  {
   "cell_type": "code",
   "execution_count": null,
   "id": "f4d4c7e2-5b34-4d96-9c9b-27324907ba44",
   "metadata": {},
   "outputs": [],
   "source": []
  },
  {
   "cell_type": "code",
   "execution_count": null,
   "id": "208515dc-8fe4-4564-b813-14234f761587",
   "metadata": {},
   "outputs": [],
   "source": []
  }
 ],
 "metadata": {
  "colab": {
   "provenance": []
  },
  "kernelspec": {
   "display_name": "Python 3 (ipykernel)",
   "language": "python",
   "name": "python3"
  },
  "language_info": {
   "codemirror_mode": {
    "name": "ipython",
    "version": 3
   },
   "file_extension": ".py",
   "mimetype": "text/x-python",
   "name": "python",
   "nbconvert_exporter": "python",
   "pygments_lexer": "ipython3",
   "version": "3.11.7"
  },
  "toc": {
   "base_numbering": 1,
   "nav_menu": {
    "height": "315px",
    "width": "499px"
   },
   "number_sections": true,
   "sideBar": true,
   "skip_h1_title": false,
   "title_cell": "Table of Contents",
   "title_sidebar": "Contents",
   "toc_cell": false,
   "toc_position": {
    "height": "calc(100% - 180px)",
    "left": "10px",
    "top": "150px",
    "width": "245.644px"
   },
   "toc_section_display": true,
   "toc_window_display": true
  }
 },
 "nbformat": 4,
 "nbformat_minor": 5
}
