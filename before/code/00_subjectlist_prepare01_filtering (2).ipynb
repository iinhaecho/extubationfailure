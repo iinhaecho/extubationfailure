{
  "cells": [
    {
      "cell_type": "markdown",
      "metadata": {
        "id": "SjB8W_L2Modd"
      },
      "source": [
        "subjectlist 처음뽑고, 삽관발관 데이터 뽑기"
      ]
    },
    {
      "cell_type": "code",
      "execution_count": 1,
      "metadata": {
        "id": "FB5GbA-xModh"
      },
      "outputs": [],
      "source": [
        "import psycopg2\n",
        "from dfply import *\n",
        "import pandas as pd\n",
        "import logging\n",
        "import sys\n",
        "import os\n",
        "from pathlib import Path\n",
        "from sshtunnel import SSHTunnelForwarder\n",
        "from sqlalchemy import create_engine\n",
        "\n",
        "# 현재 노트북 파일의 상위 디렉토리에 있는 src 디렉토리의 경로를 sys.path에 추가\n",
        "module_path = Path('../src').resolve()\n",
        "if module_path not in sys.path:\n",
        "    sys.path.append(str(module_path))\n",
        "\n",
        "# Logging config\n",
        "logging.basicConfig(level=logging.INFO, format='%(asctime)s - %(levelname)s - %(message)s')\n",
        "\n",
        "# 소스코드(src)\n",
        "import src.data_extraction.access_database as db\n",
        "import src.data_extraction.filter_adult_patients as fap\n",
        "import src.data_extraction.filter_ventilation_events as fve\n",
        "from src.utils import utils\n"
      ]
    },
    {
      "cell_type": "markdown",
      "metadata": {
        "id": "k3qC8mxoModj"
      },
      "source": [
        "### 1. DB 연결"
      ]
    },
    {
      "cell_type": "markdown",
      "metadata": {
        "id": "edan2Tl5Modj"
      },
      "source": [
        "#### 1-1. 각종 파라미터 설정"
      ]
    },
    {
      "cell_type": "code",
      "execution_count": 2,
      "metadata": {
        "id": "hnWnChvzModj",
        "outputId": "fd0f57e7-52d4-4822-f4b9-ec7d6636badc"
      },
      "outputs": [
        {
          "name": "stdout",
          "output_type": "stream",
          "text": [
            "--------- Database Configuration ---------\n",
            "Database Name: mimiciv\n",
            "User: mai_onlyselect\n",
            "Password: *************\n",
            "Host: 1.212.63.162\n",
            "Port: 35430\n",
            "\n",
            "--------- SQL Queries for Required Tables ---------\n",
            "pg_tables: SELECT * FROM PG_TABLES;\n",
            "patients: SELECT * FROM mimiciv_hosp.patients;\n",
            "admissions: SELECT * FROM mimiciv_hosp.admissions;\n",
            "transfers: SELECT * FROM mimiciv_hosp.transfers;\n",
            "icustays: SELECT * FROM mimiciv_icu.icustays;\n",
            "d_items: SELECT * FROM mimiciv_icu.d_items;\n",
            "intubation: SELECT * FROM mimiciv_icu.procedureevents WHERE itemid IN (224385);\n",
            "extubation: SELECT * FROM mimiciv_icu.procedureevents WHERE itemid IN (225468, 225477, 227194);\n",
            "ventilation: SELECT * FROM mimiciv_derived.ventilation;\n",
            "\n"
          ]
        }
      ],
      "source": [
        "# 데이터 저장위치\n",
        "output_dir = './data'\n",
        "\n",
        "# 데이터베이스 연결 설정\n",
        "db_config = {\n",
        "    'database': 'mimiciv',\n",
        "    'user': 'mai_onlyselect',\n",
        "    'password': 'student1q2w!@',\n",
        "    'host': '1.212.63.162',\n",
        "    'port': '35430'\n",
        "}\n",
        "\n",
        "# 호흡기 ITEM ID 설정 (웬만하면 건들지 마세요)\n",
        "vent_ids_config = {\n",
        "    'INTUBATION_ITEM_IDS': \"224385\",\n",
        "    'EXTUBATION_ITEM_IDS': \"225468, 225477, 227194\"\n",
        "}\n",
        "\n",
        "# 테이블 쿼리 설정\n",
        "tables_query = {\n",
        "    'pg_tables': 'SELECT * FROM PG_TABLES;',\n",
        "    'patients': 'SELECT * FROM mimiciv_hosp.patients;',\n",
        "    'admissions': 'SELECT * FROM mimiciv_hosp.admissions;',\n",
        "    'transfers': 'SELECT * FROM mimiciv_hosp.transfers;',\n",
        "    'icustays': 'SELECT * FROM mimiciv_icu.icustays;',\n",
        "    'd_items': 'SELECT * FROM mimiciv_icu.d_items;',\n",
        "    'intubation': f\"SELECT * FROM mimiciv_icu.procedureevents WHERE itemid IN ({vent_ids_config['INTUBATION_ITEM_IDS']});\",\n",
        "    'extubation': f\"SELECT * FROM mimiciv_icu.procedureevents WHERE itemid IN ({vent_ids_config['EXTUBATION_ITEM_IDS']});\",\n",
        "    'ventilation': 'SELECT * FROM mimiciv_derived.ventilation;'\n",
        "}\n",
        "# 추가 설정 (웬만하면 건들지 마세요)\n",
        "additional_config = {\n",
        "    'TIME_DIFF_DUP': 30   # time_diff_dup: 몇 분 이내에 삽관/발관 이벤트를 중복으로 정의할 것인가? (디폴트: 30분)\n",
        "}\n",
        "\n",
        "db.print_config_info(db_config, tables_query)"
      ]
    },
    {
      "cell_type": "markdown",
      "metadata": {
        "id": "MhLG8rmEModk"
      },
      "source": [
        "#### 1-2. DB 연결, 데이터 추출"
      ]
    },
    {
      "cell_type": "code",
      "execution_count": 3,
      "metadata": {
        "id": "i373MnapModk",
        "outputId": "46f7b016-49b0-4fc0-8ee1-bf4b530f080e"
      },
      "outputs": [
        {
          "name": "stdout",
          "output_type": "stream",
          "text": [
            "Connected to the database successfully!\n"
          ]
        },
        {
          "name": "stderr",
          "output_type": "stream",
          "text": [
            "2024-07-18 16:23:05,606 - INFO - Retrieved pg_tables: (164, 8)\n",
            "2024-07-18 16:23:13,543 - INFO - Retrieved patients: (299712, 6)\n",
            "2024-07-18 16:23:35,864 - INFO - Retrieved admissions: (431231, 16)\n",
            "2024-07-18 16:24:19,426 - INFO - Retrieved transfers: (1890972, 7)\n",
            "2024-07-18 16:24:21,380 - INFO - Retrieved icustays: (73181, 8)\n",
            "2024-07-18 16:24:21,439 - INFO - Retrieved d_items: (4014, 9)\n",
            "2024-07-18 16:24:21,695 - INFO - Retrieved intubation: (8488, 22)\n",
            "2024-07-18 16:24:22,591 - INFO - Retrieved extubation: (23122, 22)\n",
            "2024-07-18 16:24:23,979 - INFO - Retrieved ventilation: (109200, 4)\n"
          ]
        },
        {
          "name": "stdout",
          "output_type": "stream",
          "text": [
            "PostgreSQL version: ('PostgreSQL 15.7 (Ubuntu 15.7-1.pgdg22.04+1) on x86_64-pc-linux-gnu, compiled by gcc (Ubuntu 11.4.0-1ubuntu1~22.04) 11.4.0, 64-bit',)\n"
          ]
        }
      ],
      "source": [
        "import psycopg2\n",
        "\n",
        "# 데이터베이스 연결 설정\n",
        "db_config = {\n",
        "    'database': 'mimiciv',\n",
        "    'user': 'mai_onlyselect',\n",
        "    'password': 'student1q2w!@',\n",
        "    'host': '1.212.63.162',\n",
        "    'port': '35430'\n",
        "}\n",
        "\n",
        "try:\n",
        "    # 데이터베이스 연결\n",
        "    conn = psycopg2.connect(**db_config)\n",
        "    print(\"Connected to the database successfully!\")\n",
        "\n",
        "    # 커서 생성\n",
        "    cur = conn.cursor()\n",
        "\n",
        "    if conn is not None:\n",
        "        # 데이터베이스 작업 수행\n",
        "        dataframes = db.retrieve_data(conn, tables_query)\n",
        "    else:\n",
        "        logging.error(\"Failed to connect to the database.\")\n",
        "\n",
        "    # SQL 쿼리 실행\n",
        "    cur.execute(\"SELECT version();\")\n",
        "\n",
        "    # 결과 가져오기\n",
        "    result = cur.fetchone()\n",
        "    print(\"PostgreSQL version:\", result)\n",
        "\n",
        "except (psycopg2.Error, Exception) as error:\n",
        "    print(\"Error while connecting to the database:\", error)\n",
        "\n",
        "\n",
        "# finally:\n",
        "#     # 커서와 연결 종료\n",
        "#     if 'cur' in locals():\n",
        "#         cur.close()\n",
        "#     if 'conn' in locals():\n",
        "#         conn.close()\n",
        "#     print(\"Database connection closed.\")"
      ]
    },
    {
      "cell_type": "code",
      "execution_count": 4,
      "metadata": {
        "id": "SfhQfj8qModl",
        "outputId": "9a6a321a-77b9-4b17-b0a3-af39596d6ff1"
      },
      "outputs": [
        {
          "data": {
            "text/plain": [
              "dict_keys(['pg_tables', 'patients', 'admissions', 'transfers', 'icustays', 'd_items', 'intubation', 'extubation', 'ventilation'])"
            ]
          },
          "execution_count": 4,
          "metadata": {},
          "output_type": "execute_result"
        }
      ],
      "source": [
        "dataframes.keys()   # 메모리에 저장된 데이터 확인"
      ]
    },
    {
      "cell_type": "code",
      "execution_count": 5,
      "metadata": {
        "id": "P2x2asTIModl",
        "outputId": "334922bf-b679-492e-c8e9-b9d9774674c6"
      },
      "outputs": [
        {
          "name": "stdout",
          "output_type": "stream",
          "text": [
            "patients: (299712, 6)\n",
            "admissions: (431231, 16)\n",
            "intubation_all: (8488, 22)\n",
            "extubation_all: (23122, 22)\n",
            "icustays: (73181, 8)\n",
            "ventilation: (109200, 4)\n"
          ]
        }
      ],
      "source": [
        "# 데이터프레임 변환\n",
        "patients = dataframes['patients']\n",
        "admissions = dataframes['admissions']\n",
        "intubation_all = dataframes['intubation']\n",
        "extubation_all = dataframes['extubation']\n",
        "icustays = dataframes['icustays']\n",
        "ventilation = dataframes['ventilation']\n",
        "\n",
        "print(f'patients: {patients.shape}')\n",
        "print(f'admissions: {admissions.shape}')\n",
        "print(f'intubation_all: {intubation_all.shape}')\n",
        "print(f'extubation_all: {extubation_all.shape}')\n",
        "print(f'icustays: {icustays.shape}')\n",
        "print(f'ventilation: {ventilation.shape}')"
      ]
    },
    {
      "cell_type": "markdown",
      "metadata": {
        "id": "OFqXep95Modl"
      },
      "source": [
        "### 2. 데이터 처리\n",
        "- 2-1. 환자 정보 정제\n",
        "- 2-2. 호흡기(삽관/발관) 정보 정제"
      ]
    },
    {
      "cell_type": "markdown",
      "metadata": {
        "id": "308eKQbEModm"
      },
      "source": [
        "#### 2.1. 환자 정보 필터링\n",
        "- 성인 환자 (anchor age >= 18) >>\n",
        "\n",
        "    - 병원 입원(hadm_id) 정보가 있는 환자 >>\n",
        "    \n",
        "        -  중환자실 입원(stay_id) 정보가 있는 환자"
      ]
    },
    {
      "cell_type": "code",
      "execution_count": 6,
      "metadata": {
        "id": "Xtyyld0XModm",
        "outputId": "4a83ed75-206f-4350-b6fd-b11837a6ee2d"
      },
      "outputs": [
        {
          "name": "stdout",
          "output_type": "stream",
          "text": [
            "Number of adult patients retrieved: 299712\n"
          ]
        }
      ],
      "source": [
        "## 데이터 처리: 응급병동 환자 데이터 (filter_adult_patients)\n",
        "# 성인환자 데이터 필터링\n",
        "adults_pat = fap.filter_adult_patients(patients)   # 18세 이상 필터링\n",
        "adults_hadm = fap.merge_patient_admissions(adults_pat, admissions)   # patient, admissions 테이블 결합\n",
        "adults_hadm = fap.remove_missing_hadm(adults_hadm)   # 입원정보(hadm_id) 없는 행 삭제\n",
        "adults_icu = fap.merge_with_icu(adults_hadm, icustays)   # icu (응급병동) 테이블 결합\n",
        "adults_icu = fap.remove_missing_icu_stays(adults_icu)   # icu 입원정보(stay_id) 없는 행 삭제"
      ]
    },
    {
      "cell_type": "markdown",
      "metadata": {
        "id": "HZSWvBlTModm"
      },
      "source": [
        "#### 2.2. 삽관/발관 데이터 정제\n",
        "- 먼저 삽관 테이블, 발관 테이블 따로 처리 (함수: filter_and_label_ventilation_data, filter_close_events)\n",
        "    - 필요한 칼럼 가져오기: \"subject_id\", \"hadm_id\", \"stay_id\", \"starttime\", \"itemid\", \"patientweight\"\n",
        "    - (발관 테이블) extubation cause 라벨 붙여주기\n",
        "    - 근접행 제거하기 (additional_config 변수의 'TIME_DIFF_DUP' 파라미터 값 참조)\n",
        "- 삽관/발관 테이블 결합해주기 (함수: join_ventilation_and_rename, join_admissions)\n",
        "    - 중복되는 이름 변경해주기\n",
        "    - 환자 정보와 결합해주기"
      ]
    },
    {
      "cell_type": "code",
      "execution_count": 7,
      "metadata": {
        "id": "iGMCiwi-Modm",
        "outputId": "bf7c573d-5b10-4271-f288-f038eaa17cb8"
      },
      "outputs": [
        {
          "name": "stdout",
          "output_type": "stream",
          "text": [
            "----------------------------------------------------------------------\n",
            "intubation 중복치 및 근접치 통계\n",
            "근접한 행 과의 거리가 30분 이내인 값을 중복행으로 정의\n",
            "제거된 intubation 중복 행 개수 : 223 행 / 8488 행 (2.63 %)\n",
            "----------------------------------------------------------------------\n",
            "extubation 중복치 및 근접치 통계\n",
            "근접한 행 과의 거리가 30분 이내인 값을 중복행으로 정의\n",
            "제거된 extubation 중복 행 개수 : 440 행 / 23122 행 (1.90 %)\n"
          ]
        }
      ],
      "source": [
        "## 데이터 처리: 삽관/발관 데이터 (filter_ventilation_events)\n",
        "# 삽관/발관 데이터 필터링 및 처리\n",
        "intubation_data = fve.filter_and_label_ventilation_data(intubation_all, 'intubationtime', 'intubation')\n",
        "extubation_data = fve.filter_and_label_ventilation_data(extubation_all, 'extubationtime', 'extubation')\n",
        "\n",
        "# 근접행 제거: time_diff(분) 이내\n",
        "time_diff = additional_config[\"TIME_DIFF_DUP\"]\n",
        "intubation_data = fve.filter_close_events(intubation_data, 'intubationtime', ['subject_id', 'hadm_id'], time_diff=time_diff)\n",
        "extubation_data = fve.filter_close_events(extubation_data, 'extubationtime', ['subject_id', 'hadm_id'], time_diff=time_diff)\n",
        "\n",
        "# 삽관 발관 테이블 결합\n",
        "intubation_extubation = fve.join_ventilation_and_rename(intubation_data, extubation_data)\n",
        "\n",
        "# 입원 데이터 결합\n",
        "intubation_extubation = fve.join_admissions(intubation_extubation, admissions)\n",
        "\n",
        "\n",
        "# 중복치/근접치 제거 리포트 출력\n",
        "fve.report_filtering_stats('intubation', intubation_all, intubation_data, time_diff)\n",
        "fve.report_filtering_stats('extubation', extubation_all, extubation_data, time_diff)"
      ]
    },
    {
      "cell_type": "markdown",
      "metadata": {
        "id": "gvJvn6LkModn"
      },
      "source": [
        "### 데이터 저장"
      ]
    },
    {
      "cell_type": "code",
      "execution_count": 8,
      "metadata": {
        "id": "RpFUo559Modn",
        "outputId": "c666b83d-0dc1-4a9d-e20b-82015f228905"
      },
      "outputs": [
        {
          "name": "stdout",
          "output_type": "stream",
          "text": [
            "Data extraction and processing complete. Files saved.\n",
            "Data extraction and processing complete. Files saved.\n"
          ]
        }
      ],
      "source": [
        "# 데이터 저장\n",
        "if not os.path.exists(output_dir):   # output 디렉토리가 없을 경우 생성\n",
        "    os.makedirs(output_dir)\n",
        "\n",
        "utils.save_filtered_data(adults_icu, intubation_extubation, output_dir, outputs='all')\n",
        "\n",
        "intubation_data.to_csv('./data/intubation_data.csv')\n",
        "extubation_data.to_csv('./data/extubation_data.csv')\n",
        "ventilation.to_csv('./data/ventilation.csv')"
      ]
    }
  ],
  "metadata": {
    "colab": {
      "provenance": []
    },
    "kernelspec": {
      "display_name": "mimic",
      "language": "python",
      "name": "python3"
    },
    "language_info": {
      "codemirror_mode": {
        "name": "ipython",
        "version": 3
      },
      "file_extension": ".py",
      "mimetype": "text/x-python",
      "name": "python",
      "nbconvert_exporter": "python",
      "pygments_lexer": "ipython3",
      "version": "3.12.2"
    },
    "vscode": {
      "interpreter": {
        "hash": "08a5d306251160da1020f1cc49fc3a531c8493d68136136759768e504de1bc8f"
      }
    }
  },
  "nbformat": 4,
  "nbformat_minor": 0
}
